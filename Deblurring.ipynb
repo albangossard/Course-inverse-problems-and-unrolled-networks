{
 "cells": [
  {
   "cell_type": "markdown",
   "metadata": {},
   "source": [
    "# Réseaux de neurones unrolled pour le défloutage"
   ]
  },
  {
   "cell_type": "markdown",
   "metadata": {},
   "source": [
    "### Imports"
   ]
  },
  {
   "cell_type": "code",
   "execution_count": null,
   "metadata": {},
   "outputs": [],
   "source": [
    "import numpy as np\n",
    "import matplotlib.pyplot as plt\n",
    "import torch\n",
    "from tqdm import tqdm\n",
    "from torchvision import datasets, transforms\n",
    "import torch.nn as nn\n",
    "from torch.utils.tensorboard import SummaryWriter\n",
    "# from tensorboardX import SummaryWriter\n",
    "\n",
    "from DIDN import DIDN\n",
    "import scripts.metrics as metrics\n",
    "from scripts.recon import cg"
   ]
  },
  {
   "cell_type": "code",
   "execution_count": null,
   "metadata": {},
   "outputs": [],
   "source": [
    "batch_size = 4\n",
    "batch_size_test = 64\n",
    "nchans = 3\n",
    "nx = ny = 96\n",
    "device = torch.device('cuda:0')\n",
    "\n",
    "noiselevel = 3e-2\n",
    "kernelsize = 11\n",
    "sigma = 1."
   ]
  },
  {
   "cell_type": "markdown",
   "metadata": {},
   "source": [
    "Définition du chemin où le jeu de données est enregistré."
   ]
  },
  {
   "cell_type": "code",
   "execution_count": null,
   "metadata": {},
   "outputs": [],
   "source": [
    "root = '/media/DATA/STL10_dataset'\n",
    "\n",
    "\n",
    "def normalize(tensor):\n",
    "    mini = tensor.amin(axis=(0,1,2), keepdim=True)\n",
    "    maxi = tensor.amax(axis=(0,1,2), keepdim=True)\n",
    "    return (tensor-mini)/(maxi-mini)\n",
    "\n",
    "\n",
    "transform = transforms.Compose([\n",
    "    transforms.Resize((nx, ny)),\n",
    "    transforms.ToTensor(),\n",
    "    transforms.Lambda(normalize),\n",
    "])\n",
    "dataset_train = datasets.STL10(root=root, split=\"train\", transform=transform, download=False)\n",
    "train_loader = torch.utils.data.DataLoader(dataset=dataset_train, batch_size=batch_size, shuffle=True)\n",
    "dataset_test = datasets.STL10(root=root, split=\"test\", transform=transform, download=False)\n",
    "test_loader = torch.utils.data.DataLoader(dataset=dataset_test, batch_size=batch_size_test, shuffle=True)\n",
    "print('nb images in training dataset:',len(dataset_train))\n",
    "print('nb images in testing dataset:',len(dataset_test))"
   ]
  },
  {
   "cell_type": "markdown",
   "metadata": {},
   "source": [
    "Définir du noyau de convolution non périodique gaussien et appliquer ce noyau à une image. Afficher l'image de départ et celle floutée. Puis ajouter du bruit sur l'image floutée et l'afficher."
   ]
  },
  {
   "cell_type": "code",
   "execution_count": null,
   "metadata": {},
   "outputs": [],
   "source": []
  },
  {
   "cell_type": "markdown",
   "metadata": {},
   "source": [
    "Ecrire une fonction réalisant l'optimisation du modèle sur une epoch."
   ]
  },
  {
   "cell_type": "code",
   "execution_count": null,
   "metadata": {},
   "outputs": [],
   "source": []
  },
  {
   "cell_type": "markdown",
   "metadata": {},
   "source": [
    "Coder une fonction testant le modèle sur tout le jeu de données test et qui renvoie un array numpy des PSNR associés à chaque image."
   ]
  },
  {
   "cell_type": "code",
   "execution_count": null,
   "metadata": {},
   "outputs": [],
   "source": []
  },
  {
   "cell_type": "markdown",
   "metadata": {},
   "source": [
    "Implémenter une fonction appelant $Nepoch$ fois la fonction train et test. Ne pas oublier d'appeler un éventuel scheduler passé en argument."
   ]
  },
  {
   "cell_type": "code",
   "execution_count": null,
   "metadata": {},
   "outputs": [],
   "source": []
  },
  {
   "cell_type": "markdown",
   "metadata": {},
   "source": [
    "## Reconstructeur adjoint"
   ]
  },
  {
   "cell_type": "code",
   "execution_count": null,
   "metadata": {},
   "outputs": [],
   "source": []
  },
  {
   "cell_type": "markdown",
   "metadata": {},
   "source": [
    "## Unrolled forward-backward"
   ]
  },
  {
   "cell_type": "code",
   "execution_count": null,
   "metadata": {},
   "outputs": [],
   "source": []
  },
  {
   "cell_type": "markdown",
   "metadata": {},
   "source": [
    "## Unrolled ADMM"
   ]
  },
  {
   "cell_type": "code",
   "execution_count": null,
   "metadata": {},
   "outputs": [],
   "source": []
  },
  {
   "cell_type": "code",
   "execution_count": null,
   "metadata": {},
   "outputs": [],
   "source": []
  }
 ],
 "metadata": {
  "interpreter": {
   "hash": "d0e20e8976f4aac8f711da61aa93bc459cc2b60abc972a566c8f75c32901bd28"
  },
  "kernelspec": {
   "display_name": "TORCHNUFFT2",
   "language": "python",
   "name": "python3"
  },
  "language_info": {
   "codemirror_mode": {
    "name": "ipython",
    "version": 3
   },
   "file_extension": ".py",
   "mimetype": "text/x-python",
   "name": "python",
   "nbconvert_exporter": "python",
   "pygments_lexer": "ipython3",
   "version": "3.8.11"
  }
 },
 "nbformat": 4,
 "nbformat_minor": 2
}
